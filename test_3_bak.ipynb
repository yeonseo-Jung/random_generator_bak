{
 "cells": [
  {
   "cell_type": "code",
   "execution_count": 39,
   "metadata": {},
   "outputs": [],
   "source": [
    "import time\n",
    "import random\n",
    "\n",
    "from tqdm import tqdm\n",
    "import pandas as pd\n",
    "\n",
    "import seaborn as sns\n",
    "import matplotlib.pyplot as plt\n",
    "\n",
    "from get_randoms import *\n",
    "\n",
    "import warnings\n",
    "warnings.filterwarnings(action='ignore')"
   ]
  },
  {
   "cell_type": "markdown",
   "metadata": {},
   "source": [
    "## Test 2: Max Integer\n",
    "---"
   ]
  },
  {
   "cell_type": "code",
   "execution_count": 4,
   "metadata": {},
   "outputs": [],
   "source": [
    "def get_random_test(integer: int, iterations:int = None) -> list:\n",
    "    \n",
    "    st = time.time()\n",
    "    rand_n, _randoms, seed, a, factors, c, coprimes = get_random(integer, iterations)\n",
    "    elapsed = round((time.time() - st) * 1000, 3)\n",
    "    \n",
    "    return [integer, rand_n, seed, a, c, elapsed]"
   ]
  },
  {
   "cell_type": "code",
   "execution_count": 76,
   "metadata": {},
   "outputs": [
    {
     "name": "stderr",
     "output_type": "stream",
     "text": [
      "  0%|          | 21/9999 [02:44<34:27:18, 12.43s/it]"
     ]
    }
   ],
   "source": [
    "for i in tqdm(range(1, 10000)):\n",
    "    st, end = 10 ** (i-1), 10 ** i - 1\n",
    "    n = random.randint(st, end)\n",
    "    len_n = len(str(n))\n",
    "    \n",
    "    _data = get_random_test(n)\n",
    "    # _data.append(len_n)"
   ]
  },
  {
   "cell_type": "code",
   "execution_count": null,
   "metadata": {},
   "outputs": [],
   "source": []
  },
  {
   "cell_type": "code",
   "execution_count": null,
   "metadata": {},
   "outputs": [],
   "source": []
  },
  {
   "cell_type": "code",
   "execution_count": null,
   "metadata": {},
   "outputs": [],
   "source": []
  },
  {
   "cell_type": "code",
   "execution_count": null,
   "metadata": {},
   "outputs": [],
   "source": []
  },
  {
   "cell_type": "code",
   "execution_count": null,
   "metadata": {},
   "outputs": [],
   "source": []
  }
 ],
 "metadata": {
  "kernelspec": {
   "display_name": "Python 3.10.8 ('venv': venv)",
   "language": "python",
   "name": "python3"
  },
  "language_info": {
   "codemirror_mode": {
    "name": "ipython",
    "version": 3
   },
   "file_extension": ".py",
   "mimetype": "text/x-python",
   "name": "python",
   "nbconvert_exporter": "python",
   "pygments_lexer": "ipython3",
   "version": "3.10.8"
  },
  "orig_nbformat": 4,
  "vscode": {
   "interpreter": {
    "hash": "ce9e54fe445064e9e188cde407234239975da03c2c49a4e5e42483ae67fc2dcb"
   }
  }
 },
 "nbformat": 4,
 "nbformat_minor": 2
}
