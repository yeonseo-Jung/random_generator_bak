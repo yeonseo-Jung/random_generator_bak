{
 "cells": [
  {
   "cell_type": "code",
   "execution_count": 39,
   "metadata": {},
   "outputs": [],
   "source": [
    "import time\n",
    "import random\n",
    "\n",
    "from tqdm import tqdm\n",
    "import pandas as pd\n",
    "\n",
    "import seaborn as sns\n",
    "import matplotlib.pyplot as plt\n",
    "\n",
    "from get_randoms import *\n",
    "\n",
    "import warnings\n",
    "warnings.filterwarnings(action='ignore')"
   ]
  },
  {
   "cell_type": "markdown",
   "metadata": {},
   "source": [
    "## Test 2: Max Integer\n",
    "---"
   ]
  },
  {
   "cell_type": "code",
   "execution_count": 4,
   "metadata": {},
   "outputs": [],
   "source": [
    "def get_random_test(integer: int, iterations:int = None) -> list:\n",
    "    \n",
    "    st = time.time()\n",
    "    rand_n, _randoms, seed, a, factors, c, coprimes = get_random(integer, iterations)\n",
    "    elapsed = round((time.time() - st) * 1000, 3)\n",
    "    \n",
    "    return [integer, rand_n, seed, a, c, elapsed]"
   ]
  },
  {
   "cell_type": "code",
   "execution_count": 76,
   "metadata": {},
   "outputs": [
    {
     "name": "stderr",
     "output_type": "stream",
     "text": [
      "  0%|          | 22/9999 [10:14<77:21:22, 27.91s/it]\n"
     ]
    },
    {
     "ename": "KeyboardInterrupt",
     "evalue": "",
     "output_type": "error",
     "traceback": [
      "\u001b[0;31m---------------------------------------------------------------------------\u001b[0m",
      "\u001b[0;31mKeyboardInterrupt\u001b[0m                         Traceback (most recent call last)",
      "Cell \u001b[0;32mIn [76], line 6\u001b[0m\n\u001b[1;32m      3\u001b[0m n \u001b[39m=\u001b[39m random\u001b[39m.\u001b[39mrandint(st, end)\n\u001b[1;32m      4\u001b[0m len_n \u001b[39m=\u001b[39m \u001b[39mlen\u001b[39m(\u001b[39mstr\u001b[39m(n))\n\u001b[0;32m----> 6\u001b[0m _data \u001b[39m=\u001b[39m get_random_test(n)\n\u001b[1;32m      7\u001b[0m \u001b[39m# _data.append(len_n)\u001b[39;00m\n",
      "Cell \u001b[0;32mIn [4], line 4\u001b[0m, in \u001b[0;36mget_random_test\u001b[0;34m(integer, iterations)\u001b[0m\n\u001b[1;32m      1\u001b[0m \u001b[39mdef\u001b[39;00m \u001b[39mget_random_test\u001b[39m(integer: \u001b[39mint\u001b[39m, iterations:\u001b[39mint\u001b[39m \u001b[39m=\u001b[39m \u001b[39mNone\u001b[39;00m) \u001b[39m-\u001b[39m\u001b[39m>\u001b[39m \u001b[39mlist\u001b[39m:\n\u001b[1;32m      3\u001b[0m     st \u001b[39m=\u001b[39m time\u001b[39m.\u001b[39mtime()\n\u001b[0;32m----> 4\u001b[0m     rand_n, _randoms, seed, a, factors, c, coprimes \u001b[39m=\u001b[39m get_random(integer, iterations)\n\u001b[1;32m      5\u001b[0m     elapsed \u001b[39m=\u001b[39m \u001b[39mround\u001b[39m((time\u001b[39m.\u001b[39mtime() \u001b[39m-\u001b[39m st) \u001b[39m*\u001b[39m \u001b[39m1000\u001b[39m, \u001b[39m3\u001b[39m)\n\u001b[1;32m      7\u001b[0m     \u001b[39mreturn\u001b[39;00m [integer, rand_n, seed, a, c, elapsed]\n",
      "File \u001b[0;32m~/Projects/mkdocs/get_randoms.py:128\u001b[0m, in \u001b[0;36mget_random\u001b[0;34m(n, interations)\u001b[0m\n",
      "File \u001b[0;32m~/Projects/mkdocs/get_randoms.py:82\u001b[0m, in \u001b[0;36mget_multiplier\u001b[0;34m(m)\u001b[0m\n",
      "\u001b[0;31mKeyboardInterrupt\u001b[0m: "
     ]
    }
   ],
   "source": [
    "data = []\n",
    "for i in tqdm(range(1, 10000)):\n",
    "    st, end = 10 ** (i-1), 10 ** i - 1\n",
    "    n = random.randint(st, end)\n",
    "    len_n = len(str(n))\n",
    "    \n",
    "    _data = get_random_test(n)\n",
    "    data.append(_data)"
   ]
  },
  {
   "cell_type": "code",
   "execution_count": 83,
   "metadata": {},
   "outputs": [
    {
     "data": {
      "text/plain": [
       "[1339382471628266886435,\n",
       " 36390215983388678842,\n",
       " 1,\n",
       " 29133,\n",
       " 58632421294170298125,\n",
       " 26.627]"
      ]
     },
     "execution_count": 83,
     "metadata": {},
     "output_type": "execute_result"
    }
   ],
   "source": [
    "_data"
   ]
  },
  {
   "cell_type": "code",
   "execution_count": null,
   "metadata": {},
   "outputs": [],
   "source": []
  },
  {
   "cell_type": "code",
   "execution_count": null,
   "metadata": {},
   "outputs": [],
   "source": []
  }
 ],
 "metadata": {
  "kernelspec": {
   "display_name": "Python 3.10.8 ('venv': venv)",
   "language": "python",
   "name": "python3"
  },
  "language_info": {
   "codemirror_mode": {
    "name": "ipython",
    "version": 3
   },
   "file_extension": ".py",
   "mimetype": "text/x-python",
   "name": "python",
   "nbconvert_exporter": "python",
   "pygments_lexer": "ipython3",
   "version": "3.10.8"
  },
  "orig_nbformat": 4,
  "vscode": {
   "interpreter": {
    "hash": "fe37b5a4b6a57894c41063321bf8aa5a499b049817b9e24903181f66f7d036f3"
   }
  }
 },
 "nbformat": 4,
 "nbformat_minor": 2
}
