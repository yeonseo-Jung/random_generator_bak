{
 "cells": [
  {
   "cell_type": "code",
   "execution_count": 5,
   "metadata": {},
   "outputs": [],
   "source": [
    "import time\n",
    "\n",
    "from tqdm import tqdm\n",
    "import pandas as pd\n",
    "\n",
    "import seaborn as sns\n",
    "import matplotlib.pyplot as plt\n",
    "\n",
    "from get_randoms import *\n",
    "\n",
    "import warnings\n",
    "warnings.filterwarnings(action='ignore')"
   ]
  },
  {
   "cell_type": "markdown",
   "metadata": {},
   "source": [
    "사용한 알고리즘: **Linear congruential generator**  \n",
    "\n",
    "    Recurrence Relation: Xn+1 = (a * Xn + c) % m\n",
    "    c: increment, a: multiplier, m: modulus\n",
    "    \n",
    "    * 주기가 최대가 되기위한 계수 조건 *\n",
    "        - c와 n은 서로소 (0<= c < n) \n",
    "        - m이 4의 배수이면 a-1도 4의 배수\n",
    "        - a-1은 m의 모든 소인수*로 나누어 떨어짐\n",
    "          * 연산 시간 문제와 계수 예측을 막기 위해 소인수 전체집합의 부분집합의 곱으로 설정함\n",
    "          (get_1_or_0 함수를 통해 랜덤하게 구함)"
   ]
  },
  {
   "cell_type": "markdown",
   "metadata": {},
   "source": [
    "## Test: Uniformity\n",
    "---"
   ]
  },
  {
   "cell_type": "code",
   "execution_count": 6,
   "metadata": {},
   "outputs": [],
   "source": [
    "def get_random_test(integers: int or list, iterations: int) -> pd.DataFrame:\n",
    "    \n",
    "    if type(integers) == int:\n",
    "        integers = [integers]\n",
    "        \n",
    "    data, randoms = []\n",
    "    for n in tqdm(integers):\n",
    "        i = 0\n",
    "        while i < iterations:\n",
    "            st = time.time()\n",
    "            rand_n, _randoms, seed, a, factors, c, coprimes = get_random(n)\n",
    "            elapsed = round((time.time() - st) * 1000, 3)\n",
    "            data.append([n, rand_n, seed, a, factors, c, elapsed])\n",
    "            i += 1\n",
    "    \n",
    "    return data"
   ]
  },
  {
   "cell_type": "code",
   "execution_count": 7,
   "metadata": {},
   "outputs": [],
   "source": [
    "# ints = [2 ** 32 - 1]\n",
    "# iteers = 10000\n",
    "\n",
    "# test_data = get_random_test(ints, iteers)\n",
    "# columns = ['number', 'random_number', 'random_numbers', 'seed', 'multiplier', 'factors', 'increment', 'coprimes', 'elapsed_time']\n",
    "# test_df = pd.DataFrame(test_data, columns=columns)\n",
    "\n",
    "# test_df_copy = test_df.copy()"
   ]
  },
  {
   "cell_type": "code",
   "execution_count": 9,
   "metadata": {},
   "outputs": [],
   "source": [
    "integers = 2 ** 32 - 1\n",
    "iterations = 10000"
   ]
  },
  {
   "cell_type": "code",
   "execution_count": 10,
   "metadata": {},
   "outputs": [
    {
     "name": "stderr",
     "output_type": "stream",
     "text": [
      "100%|██████████| 10000/10000 [24:16<00:00,  6.86it/s] \n"
     ]
    }
   ],
   "source": [
    "data, randoms, factors, coprimes = [], [], [], []\n",
    "# i = 0\n",
    "# while i < iterations:\n",
    "for i in tqdm(range(iterations)):\n",
    "    st = time.time()\n",
    "    rand_n, _randoms, seed, a, factors, c, coprimes = get_random(integers)\n",
    "    elapsed = round((time.time() - st) * 1000, 3)\n",
    "    data.append([integers, rand_n, seed, a, c, elapsed])"
   ]
  },
  {
   "cell_type": "code",
   "execution_count": null,
   "metadata": {},
   "outputs": [],
   "source": [
    "columns = ['number', 'random_number', 'seed', 'multiplier', 'increment', 'elapsed_time']\n",
    "test_df = pd.DataFrame(data, columns=columns)"
   ]
  },
  {
   "cell_type": "code",
   "execution_count": null,
   "metadata": {},
   "outputs": [],
   "source": [
    "randint_mean = round(test_df.random_number.mean(), 3)\n",
    "randint_max = test_df.random_number.max()\n",
    "randint_min = test_df.random_number.min()\n",
    "randint_std = round(test_df.random_number.std(), 3)"
   ]
  },
  {
   "cell_type": "markdown",
   "metadata": {},
   "source": [
    "**Integer(n): 4294967296 (2^32)**  \n",
    "(iteration counts: 1000)\n",
    "\n",
    "    - Mean  : 2028084498.91  \n",
    "    - Max   : 4276800004\n",
    "    - Min   : 7325355\n",
    "    - Std   : 1340314103.285"
   ]
  },
  {
   "cell_type": "code",
   "execution_count": null,
   "metadata": {},
   "outputs": [],
   "source": [
    "grps = ['seed', 'multiplier', 'increment']\n",
    "\n",
    "# test_df = test_df_copy.loc[test_df_copy.number==2**32]\n",
    "test_df.groupby(grps).count().loc[:, ['random_number']]"
   ]
  },
  {
   "cell_type": "code",
   "execution_count": null,
   "metadata": {},
   "outputs": [],
   "source": [
    "# test_df.groupby('random_number').count()"
   ]
  },
  {
   "cell_type": "code",
   "execution_count": null,
   "metadata": {},
   "outputs": [],
   "source": [
    "# test_df.groupby('multiplier').count().loc[:, ['random_number']]"
   ]
  },
  {
   "cell_type": "code",
   "execution_count": null,
   "metadata": {},
   "outputs": [],
   "source": [
    "# test_df.groupby('increment').count().loc[:, ['random_number']]"
   ]
  },
  {
   "cell_type": "code",
   "execution_count": null,
   "metadata": {},
   "outputs": [],
   "source": [
    "# test_df.groupby('elapsed_time').count()"
   ]
  },
  {
   "cell_type": "code",
   "execution_count": null,
   "metadata": {},
   "outputs": [],
   "source": [
    "print(\"\\n\\n\\n\\n\\n\\n\\n\")"
   ]
  },
  {
   "cell_type": "markdown",
   "metadata": {},
   "source": [
    "  \n",
    "    \n",
    "      \n",
    "        \n",
    "\n",
    "  \n",
    "  \n",
    "## Histogram & Kernel Density\n",
    "---\n",
    "\n",
    "### Random Number\n",
    "---"
   ]
  },
  {
   "cell_type": "code",
   "execution_count": null,
   "metadata": {},
   "outputs": [],
   "source": [
    "data_df = test_df.loc[:, ['random_number']]\n",
    "ax = sns.distplot(data_df)\n",
    "ax.set(xlabel='Random Number', ylabel='Density')\n",
    "plt.show()"
   ]
  },
  {
   "cell_type": "markdown",
   "metadata": {},
   "source": [
    "### Seed Value\n",
    "---"
   ]
  },
  {
   "cell_type": "code",
   "execution_count": null,
   "metadata": {},
   "outputs": [],
   "source": [
    "data_df = test_df.loc[:, ['seed']]\n",
    "ax = sns.distplot(data_df)\n",
    "ax.set(xlabel='Seed(x0)', ylabel='Density')\n",
    "plt.show()"
   ]
  },
  {
   "cell_type": "markdown",
   "metadata": {},
   "source": [
    "### Multiplier(a)\n",
    "---"
   ]
  },
  {
   "cell_type": "code",
   "execution_count": null,
   "metadata": {},
   "outputs": [],
   "source": [
    "data_df = test_df.loc[:, ['multiplier']]\n",
    "ax = sns.distplot(data_df)\n",
    "ax.set(xlabel='Multiplier(a)', ylabel='Density')\n",
    "plt.show()"
   ]
  },
  {
   "cell_type": "markdown",
   "metadata": {},
   "source": [
    "### Increment(c)\n",
    "---"
   ]
  },
  {
   "cell_type": "code",
   "execution_count": null,
   "metadata": {},
   "outputs": [],
   "source": [
    "data_df = test_df.loc[:, ['increment']]\n",
    "ax = sns.distplot(data_df)\n",
    "ax.set(xlabel='Increment(c)', ylabel='Density')\n",
    "plt.show()"
   ]
  },
  {
   "cell_type": "markdown",
   "metadata": {},
   "source": [
    "### Elapsed Time\n",
    "---"
   ]
  },
  {
   "cell_type": "code",
   "execution_count": null,
   "metadata": {},
   "outputs": [],
   "source": [
    "data_df = test_df.loc[:, ['elapsed_time']]\n",
    "ax = sns.distplot(data_df)\n",
    "ax.set(xlabel='Elapsed Time(ms)', ylabel='Density')\n",
    "plt.show()"
   ]
  },
  {
   "cell_type": "code",
   "execution_count": null,
   "metadata": {},
   "outputs": [],
   "source": [
    "# import pdfkit\n",
    "# pdfkit.from_file('test_1.html', 'test_1.pdf')"
   ]
  },
  {
   "cell_type": "code",
   "execution_count": null,
   "metadata": {},
   "outputs": [],
   "source": []
  },
  {
   "cell_type": "code",
   "execution_count": null,
   "metadata": {},
   "outputs": [],
   "source": []
  }
 ],
 "metadata": {
  "kernelspec": {
   "display_name": "Python 3.10.8 ('venv': venv)",
   "language": "python",
   "name": "python3"
  },
  "language_info": {
   "codemirror_mode": {
    "name": "ipython",
    "version": 3
   },
   "file_extension": ".py",
   "mimetype": "text/x-python",
   "name": "python",
   "nbconvert_exporter": "python",
   "pygments_lexer": "ipython3",
   "version": "3.10.8"
  },
  "orig_nbformat": 4,
  "vscode": {
   "interpreter": {
    "hash": "ce9e54fe445064e9e188cde407234239975da03c2c49a4e5e42483ae67fc2dcb"
   }
  }
 },
 "nbformat": 4,
 "nbformat_minor": 2
}
